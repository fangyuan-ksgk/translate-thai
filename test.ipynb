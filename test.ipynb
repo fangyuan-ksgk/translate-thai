{
 "cells": [
  {
   "cell_type": "code",
   "execution_count": 2,
   "metadata": {},
   "outputs": [
    {
     "name": "stderr",
     "output_type": "stream",
     "text": [
      " 56%|█████▌    | 5/9 [01:26<01:09, 17.34s/it]"
     ]
    }
   ],
   "source": [
    "\n",
    "from translate import *\n",
    "# process_file(\"\")\n",
    "import glob\n",
    "import os\n",
    "file_names = glob.glob(\"data/*.csv\")\n",
    "file_name = file_names[1]\n",
    "\n",
    "process_file(file_name, api_key = os.environ['ANTHROPIC_API_KEY'])"
   ]
  },
  {
   "cell_type": "code",
   "execution_count": null,
   "metadata": {},
   "outputs": [],
   "source": []
  }
 ],
 "metadata": {
  "kernelspec": {
   "display_name": "Python 3",
   "language": "python",
   "name": "python3"
  },
  "language_info": {
   "codemirror_mode": {
    "name": "ipython",
    "version": 3
   },
   "file_extension": ".py",
   "mimetype": "text/x-python",
   "name": "python",
   "nbconvert_exporter": "python",
   "pygments_lexer": "ipython3",
   "version": "3.11.5"
  }
 },
 "nbformat": 4,
 "nbformat_minor": 2
}
