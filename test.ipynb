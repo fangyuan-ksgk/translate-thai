{
 "cells": [
  {
   "cell_type": "code",
   "execution_count": 1,
   "metadata": {},
   "outputs": [],
   "source": [
    "\n",
    "from translate import *\n",
    "# process_file(\"\")\n",
    "import glob\n",
    "import os\n",
    "file_names = glob.glob(\"data/*.csv\")\n",
    "file_name = file_names[1]\n",
    "\n",
    "# process_file(file_name, api_key = os.environ['ANTHROPIC_API_KEY'])"
   ]
  },
  {
   "cell_type": "code",
   "execution_count": 2,
   "metadata": {},
   "outputs": [
    {
     "data": {
      "text/plain": [
       "[]"
      ]
     },
     "execution_count": 2,
     "metadata": {},
     "output_type": "execute_result"
    }
   ],
   "source": [
    "df = pd.read_csv(file_name)\n",
    "transcript_thai = df[\"Transcript\"]\n",
    "transcript_english = df['English Translation']\n",
    "full_transcript = ('\\n').join(list(transcript_english))\n",
    "parse_qa_anthropic(full_transcript, api_key = os.environ['ANTHROPIC_API_KEY'], questions=qa_questions)"
   ]
  },
  {
   "cell_type": "code",
   "execution_count": 4,
   "metadata": {},
   "outputs": [],
   "source": [
    "thai_text = full_transcript\n",
    "api_key = os.environ['ANTHROPIC_API_KEY']\n",
    "questions = qa_questions\n",
    "\n",
    "tools = []\n",
    "tool_name = \"qa_tool\"\n",
    "tool_description = qa_tool_description\n",
    "# questions = [\"What is the name of the person?\", \"What is the name of the place?\", \"What is the name of the thing?\", \"What is the name of the action?\", \"What is the name of the time?\"]\n",
    "tool = construct_qa_tool_prompt(tool_name, tool_description, questions)\n",
    "tools.append(tool)\n",
    "\n",
    "client = anthropic.Anthropic(api_key = api_key)\n",
    "qa_message = {\n",
    "    \"role\": \"user\",\n",
    "    \"content\": \"Parse out the questions and answers according to the specific genre and description. Here is the text: \" + thai_text\n",
    "}\n",
    "response = client.beta.tools.messages.create(\n",
    "    model=\"claude-3-opus-20240229\",\n",
    "    max_tokens=512,\n",
    "    tools=tools,\n",
    "    messages=[qa_message],\n",
    ")"
   ]
  },
  {
   "cell_type": "code",
   "execution_count": 5,
   "metadata": {},
   "outputs": [
    {
     "data": {
      "text/plain": [
       "ToolsBetaMessage(id='msg_016jgnCg9tye4Xg2yN32rEFG', content=[TextBlock(text=\"<thinking>\\nThe relevant tool to extract question/answer pairs from the given text is the qa_tool. To use it, I need to go through each parameter and see if a value can be provided based on the input text.\\n\\nFor the question_X_present parameters, I need to check if the text contains questions similar to the reference questions. After reviewing the text, I don't see any questions that closely match the reference questions about insurance denials, drug use, medical diagnoses, tests/treatments in the past few years, or current health symptoms. So I would set all the question_X_present parameters to false.\\n\\nSince no relevant questions are present, the question_X and answer_X parameters can be left blank.\\n\\nIn summary, I don't have enough information in the input text to populate the required parameters for the qa_tool. The text appears to be a casual conversation that doesn't contain the type of structured health questions the tool is designed to extract.\\n</thinking>\\n\\nBased on the provided text, I don't see the specific genre of health questions that the qa_tool is designed to extract, such as questions about insurance denials, drug use, medical diagnoses, recent tests/treatments, or current symptoms. The conversation seems to be a more casual discussion that doesn't contain those structured interview questions and answers. Let me know if you have a different text excerpt that includes the health question/answer pairs you need parsed out.\", type='text')], model='claude-3-opus-20240229', role='assistant', stop_reason='end_turn', stop_sequence=None, type='message', usage=Usage(input_tokens=3622, output_tokens=301))"
      ]
     },
     "execution_count": 5,
     "metadata": {},
     "output_type": "execute_result"
    }
   ],
   "source": [
    "response"
   ]
  },
  {
   "cell_type": "code",
   "execution_count": 15,
   "metadata": {},
   "outputs": [],
   "source": [
    "def parse_qa_anthropic(thai_text, questions, api_key):\n",
    "    tools = []\n",
    "    tool_name = \"qa_tool\"\n",
    "    tool_description = qa_tool_description\n",
    "    # questions = [\"What is the name of the person?\", \"What is the name of the place?\", \"What is the name of the thing?\", \"What is the name of the action?\", \"What is the name of the time?\"]\n",
    "    tool = construct_qa_tool_prompt(tool_name, tool_description, questions)\n",
    "    tools.append(tool)\n",
    "\n",
    "    client = anthropic.Anthropic(api_key = api_key)\n",
    "    qa_message = {\n",
    "        \"role\": \"user\",\n",
    "        \"content\": \"Parse out the questions and answers according to the specific genre and description. Here is the text: \" + thai_text\n",
    "    }\n",
    "    response = client.beta.tools.messages.create(\n",
    "        model=\"claude-3-opus-20240229\",\n",
    "        max_tokens=512,\n",
    "        tools=tools,\n",
    "        messages=[qa_message],\n",
    "    )\n",
    "    calls = parse_qa_calls(response, n_types = len(questions))\n",
    "    return calls"
   ]
  },
  {
   "cell_type": "code",
   "execution_count": null,
   "metadata": {},
   "outputs": [],
   "source": []
  }
 ],
 "metadata": {
  "kernelspec": {
   "display_name": "Python 3",
   "language": "python",
   "name": "python3"
  },
  "language_info": {
   "codemirror_mode": {
    "name": "ipython",
    "version": 3
   },
   "file_extension": ".py",
   "mimetype": "text/x-python",
   "name": "python",
   "nbconvert_exporter": "python",
   "pygments_lexer": "ipython3",
   "version": "3.11.5"
  }
 },
 "nbformat": 4,
 "nbformat_minor": 2
}
