{
 "cells": [
  {
   "cell_type": "code",
   "execution_count": 1,
   "metadata": {},
   "outputs": [
    {
     "name": "stderr",
     "output_type": "stream",
     "text": [
      " 12%|█▎        | 1/8 [00:13<01:35, 13.65s/it]"
     ]
    }
   ],
   "source": [
    "from translate import *\n",
    "\n",
    "df = pd.read_csv(\"02.csv\")\n",
    "df['translate_claude'] = df.apply(lambda x: \"NA\", axis=1)\n",
    "df['revision_claude'] = df.apply(lambda x: \"NA\", axis=1)\n",
    "for i in tqdm(range(len(df))):\n",
    "    text = df['Transcript'].iloc[i]\n",
    "    translated_text, revision = get_translate(text)\n",
    "    df.at[i, 'translate_claude'] = translated_text  \n",
    "    df.at[i, 'revision_claude'] = revision \n",
    "df.to_csv(\"02_translate_claude_v2.csv\", index=False)"
   ]
  },
  {
   "cell_type": "code",
   "execution_count": null,
   "metadata": {},
   "outputs": [],
   "source": [
    "import glob\n",
    "file_names = glob.glob(\"data/*.csv\")\n",
    "for file_name in file_names:\n",
    "    df = pd.read_csv(file_name)\n",
    "    df['translate_claude'] = df.apply(lambda x: \"NA\", axis=1)\n",
    "    df['revision_claude'] = df.apply(lambda x: \"NA\", axis=1)\n",
    "    for i in tqdm(range(len(df))):\n",
    "        text = df['Transcript'].iloc[i]\n",
    "        translated_text, revision = get_translate(text)\n",
    "        df.at[i, 'translate_claude'] = translated_text  \n",
    "        df.at[i, 'revision_claude'] = translated_text  \n",
    "    df.to_csv(file_name.replace(\"data\", \"data_translate_claude\"), index=False)"
   ]
  }
 ],
 "metadata": {
  "kernelspec": {
   "display_name": "Python 3",
   "language": "python",
   "name": "python3"
  },
  "language_info": {
   "codemirror_mode": {
    "name": "ipython",
    "version": 3
   },
   "file_extension": ".py",
   "mimetype": "text/x-python",
   "name": "python",
   "nbconvert_exporter": "python",
   "pygments_lexer": "ipython3",
   "version": "3.11.5"
  }
 },
 "nbformat": 4,
 "nbformat_minor": 2
}
