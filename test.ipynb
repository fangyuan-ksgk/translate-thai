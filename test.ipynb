{
 "cells": [
  {
   "cell_type": "code",
   "execution_count": 3,
   "metadata": {},
   "outputs": [
    {
     "name": "stderr",
     "output_type": "stream",
     "text": [
      "100%|██████████| 8/8 [02:05<00:00, 15.69s/it]\n"
     ]
    }
   ],
   "source": [
    "from translate import *\n",
    "\n",
    "df = pd.read_csv(\"02.csv\")\n",
    "df['llm_revision'] = df.apply(lambda x: \"NA\", axis=1)\n",
    "df['llm_translate'] = df.apply(lambda x: \"NA\", axis=1)\n",
    "for i in tqdm(range(len(df))):\n",
    "    text = df['Transcript'].iloc[i]\n",
    "    translated_text, revision = get_translate(text)\n",
    "    df.at[i, 'llm_translate'] = translated_text  \n",
    "    df.at[i, 'llm_revision'] = revision \n",
    "df.drop(columns=['English Translation'], inplace=True)\n",
    "df.to_csv(\"02_translate_claude_v2.csv\", index=False)"
   ]
  },
  {
   "cell_type": "code",
   "execution_count": null,
   "metadata": {},
   "outputs": [],
   "source": [
    "def process_file(file_name):\n",
    "    df = pd.read_csv(file_name)\n",
    "    df['llm_revision'] = df.apply(lambda x: \"NA\", axis=1)\n",
    "    df['llm_translate'] = df.apply(lambda x: \"NA\", axis=1)\n",
    "    for i in tqdm(range(len(df))):\n",
    "        text = df['Transcript'].iloc[i]\n",
    "        translated_text, revision = get_translate(text)\n",
    "        df.at[i, 'llm_translate'] = translated_text  \n",
    "        df.at[i, 'llm_revision'] = revision \n",
    "    df.drop(columns=['English Translation'], inplace=True)\n",
    "    df.to_csv(file_name.replace(\".csv\", \"_llm.csv\"), index=False)"
   ]
  }
 ],
 "metadata": {
  "kernelspec": {
   "display_name": "Python 3",
   "language": "python",
   "name": "python3"
  },
  "language_info": {
   "codemirror_mode": {
    "name": "ipython",
    "version": 3
   },
   "file_extension": ".py",
   "mimetype": "text/x-python",
   "name": "python",
   "nbconvert_exporter": "python",
   "pygments_lexer": "ipython3",
   "version": "3.11.5"
  }
 },
 "nbformat": 4,
 "nbformat_minor": 2
}
