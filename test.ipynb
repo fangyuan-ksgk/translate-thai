{
 "cells": [
  {
   "cell_type": "code",
   "execution_count": 1,
   "metadata": {},
   "outputs": [
    {
     "name": "stderr",
     "output_type": "stream",
     "text": [
      "  0%|          | 0/195 [00:00<?, ?it/s]"
     ]
    }
   ],
   "source": [
    "from translate import *\n",
    "\n",
    "df = pd.read_csv(\"01.csv\")\n",
    "df['translate_claude'] = df.apply(lambda x: \"NA\", axis=1)\n",
    "df['revision_claude'] = df.apply(lambda x: \"NA\", axis=1)\n",
    "for i in tqdm(range(len(df))):\n",
    "    text = df['Transcript'].iloc[i]\n",
    "    translated_text, revision = get_translate(text)\n",
    "    df.at[i, 'translate_claude'] = translated_text  \n",
    "    df.at[i, 'revision_claude'] = translated_text  \n",
    "df.to_csv(\"01_translate_claude_v2.csv\", index=False)"
   ]
  }
 ],
 "metadata": {
  "kernelspec": {
   "display_name": "Python 3",
   "language": "python",
   "name": "python3"
  },
  "language_info": {
   "codemirror_mode": {
    "name": "ipython",
    "version": 3
   },
   "file_extension": ".py",
   "mimetype": "text/x-python",
   "name": "python",
   "nbconvert_exporter": "python",
   "pygments_lexer": "ipython3",
   "version": "3.11.5"
  }
 },
 "nbformat": 4,
 "nbformat_minor": 2
}
